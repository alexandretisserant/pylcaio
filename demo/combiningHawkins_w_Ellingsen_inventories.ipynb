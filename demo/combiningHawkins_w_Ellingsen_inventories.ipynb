{
 "metadata": {
  "name": "",
  "signature": "sha256:68cce2d337cde877c9456239d3a47c3997fc1818a9fb0be76531762694d53a69"
 },
 "nbformat": 3,
 "nbformat_minor": 0,
 "worksheets": [
  {
   "cells": [
    {
     "cell_type": "heading",
     "level": 1,
     "metadata": {},
     "source": [
      "Combining the inventories of two studies using the ArdaInventoryHybridizer class"
     ]
    },
    {
     "cell_type": "markdown",
     "metadata": {},
     "source": [
      "This little script documents the combination of two distinct studies:\n",
      "> Ellingsen, Linda Ager-Wick, Guillaume Majeau-Bettez, Bhawna Singh, Akhilesh Kumar Srivastava, Lars Ole Val\u00f8en, et Anders Hammer Str\u00f8mman. 2013. \u00ab Life Cycle Assessment of a Lithium-Ion Battery Vehicle Pack. \u00bb Journal of Industrial Ecology 18 (1): 113\u2011124. doi:10.1111/jiec.12072.\n",
      "\n",
      "and\n",
      "\n",
      "> Hawkins, Troy R., Bhawna Singh, Guillaume Majeau-Bettez, et Anders Hammer Str\u00f8mman. 2013. \u00ab Comparative Environmental Life Cycle Assessment of Conventional and Electric Vehicles. \u00bb Journal of Industrial Ecology 17 (1) (f\u00e9vrier 4): 53\u201164. doi:10.1111/j.1530-9290.2012.00532.x.\n",
      ">\n",
      "> Hawkins, Troy R, Bhawna Singh, Guillaume Majeau-Bettez, et Anders Hammer Str\u00f8mman. 2013. \u00ab Corrigendum to: Hawkins, T. R., B. Singh, G. Majeau-Bettez, and A. H. Str\u00f8mman. 2012. Comparative environmental life cycle assessment of conventional and electric vehicles. Journal of Industrial Ecology DOI: 10.1111/j.1530-9290.2012.00532.x. \u00bb Journal of Industrial Ecology 17 (1) (f\u00e9vrier 16): 158\u2011160. doi:10.1111/jiec.12011.\n",
      "\n",
      "These two inventories were compiled in matrix form, for calculation in Matlab.\n"
     ]
    },
    {
     "cell_type": "heading",
     "level": 2,
     "metadata": {},
     "source": [
      "Imports"
     ]
    },
    {
     "cell_type": "code",
     "collapsed": false,
     "input": [
      "# import all standard modules\n",
      "import numpy as np\n",
      "import pandas as pd\n",
      "import scipy.io as sio\n",
      "import sys"
     ],
     "language": "python",
     "metadata": {},
     "outputs": [],
     "prompt_number": 1
    },
    {
     "cell_type": "code",
     "collapsed": false,
     "input": [
      "# import the ArdaInventoryHybridizer class\n",
      "sys.path.append('/home/bill/software/arda_inventory_hybridizer/')\n",
      "import ArdaInventoryHybridizer"
     ],
     "language": "python",
     "metadata": {},
     "outputs": [],
     "prompt_number": 2
    },
    {
     "cell_type": "code",
     "collapsed": false,
     "input": [
      "# import module to facilitate visual inspection of matrices\n",
      "sys.path.append('/home/bill/software/Python/Modules/')\n",
      "import matrix_view as mtv"
     ],
     "language": "python",
     "metadata": {},
     "outputs": [],
     "prompt_number": 3
    },
    {
     "cell_type": "heading",
     "level": 2,
     "metadata": {},
     "source": [
      "Read data from Matlab .mat files"
     ]
    },
    {
     "cell_type": "code",
     "collapsed": false,
     "input": [
      "eco_orig = sio.loadmat('/home/bill/data/ecoinvent.2013-07-23.13.57/2.2/Ecoinvent_2_2_ReCiPe_H.mat')\n",
      "eco_new = sio.loadmat('/home/bill/documents/arda/dev_arda_client/data/ecoinvent/2.2/Ecoinvent22_ReCiPe108_H.mat')\n",
      "ecar_dict = sio.loadmat('/home/bill/documents/ecar/fullVehicle_Troy/A_matrix/ecarShortSystem4_arda.mat')\n",
      "battery_dict = sio.loadmat('/home/bill/documents/ecar/batteryProductionLinda_final/flightCheck/batteryWithEco22_Recipe108H_Foreground.mat')"
     ],
     "language": "python",
     "metadata": {},
     "outputs": [],
     "prompt_number": 4
    },
    {
     "cell_type": "heading",
     "level": 2,
     "metadata": {},
     "source": [
      "Define two ArdaInventoryHybridizer objects, one for each inventory"
     ]
    },
    {
     "cell_type": "code",
     "collapsed": false,
     "input": [
      "ecar2 = ArdaInventoryHybridizer.ArdaInventoryHybridizer(1)\n",
      "battery = ArdaInventoryHybridizer.ArdaInventoryHybridizer()"
     ],
     "language": "python",
     "metadata": {},
     "outputs": [],
     "prompt_number": 5
    },
    {
     "cell_type": "heading",
     "level": 2,
     "metadata": {},
     "source": [
      "Update the background for the e-car inventory by Hawkins et al."
     ]
    },
    {
     "cell_type": "markdown",
     "metadata": {},
     "source": [
      "Read in the original background and the original ecar foreground, using the *extract_background_from_matdict()* and the *extract_foreground_from_matdict()* methods of the ArdaInventoryHybridizer object."
     ]
    },
    {
     "cell_type": "code",
     "collapsed": false,
     "input": [
      "ecar2.extract_background_from_matdict(eco_orig)\n",
      "ecar2.extract_foreground_from_matdict(ecar_dict)"
     ],
     "language": "python",
     "metadata": {},
     "outputs": [],
     "prompt_number": 6
    },
    {
     "cell_type": "markdown",
     "metadata": {},
     "source": [
      "Read in the new ecoinvent matrix with improved characterisation factors, and match foreground to this new background (using the *match_foreground_to_background()* method of ArdaInventoryHybridizer object)\n"
     ]
    },
    {
     "cell_type": "code",
     "collapsed": false,
     "input": [
      "ecar2.extract_background_from_matdict(eco_new)\n",
      "ecar2.match_foreground_to_background()"
     ],
     "language": "python",
     "metadata": {},
     "outputs": [],
     "prompt_number": 7
    },
    {
     "cell_type": "heading",
     "level": 2,
     "metadata": {},
     "source": [
      "Remove the Li-ion battery from the e-car inventory to make room for the battery inventory by Ellingsen et al."
     ]
    },
    {
     "cell_type": "code",
     "collapsed": false,
     "input": [
      "# Identify all processes with a battery\n",
      "PRO_f = pd.DataFrame(ecar2.PRO_f)\n",
      "bo_remove = PRO_f.ix[:,0].str.contains('.*attery.*')\n",
      "\n",
      "# Get an idea of what processes would be removed\n",
      "print(np.sum(bo_remove))\n",
      "remove = PRO_f.ix[bo_remove,:]\n",
      "\n",
      "# Do NOT remove inventories for Lead-acid battery\n",
      "bo_notremove = remove.ix[:,0].str.contains('.*PbA.*')\n",
      "\n",
      "# Remove neither processes marked as \"nonbattery\" nor the top process \"Battery_Li_NCM\"\n",
      "# This top process will be used as \"pointer\" to link to the new battery inventory\n",
      "bo_notremove = bo_notremove | remove.ix[:,0].str.contains('.*nonbattery.*') | remove.ix[:,0].str.contains('Battery_Li_NCM')\n",
      "\n",
      "# Get an idea of what processes would be removed\n",
      "bo_remove = bo_remove & ~ bo_notremove\n",
      "print(np.sum(bo_remove))\n",
      "# Get Ids of processes to remove\n",
      "id_begone = PRO_f.ix[bo_remove,1].tolist()\n",
      "print(id_begone)"
     ],
     "language": "python",
     "metadata": {},
     "outputs": [
      {
       "output_type": "stream",
       "stream": "stdout",
       "text": [
        "58\n",
        "54\n",
        "[30012, 30031, 30040, 20040, 20041, 20042, 20070, 20071, 20072, 20073, 20074, 20075, 20076, 20077, 20479, 20480, 20482, 20483, 20485, 20487, 20489, 20490, 20492, 20493, 20494, 20495, 10205, 10206, 10207, 10208, 10209, 10210, 10211, 10212, 10526, 10528, 10529, 10530, 10531, 10532, 10533, 10535, 10536, 10537, 10538, 10541, 10546, 10549, 10550, 10551, 10552, 10553, 10554, 10555]\n"
       ]
      }
     ],
     "prompt_number": 8
    },
    {
     "cell_type": "markdown",
     "metadata": {},
     "source": [
      "\n",
      "Delete these processes (using the *delete_process_foreground()* method of the ArdatInventoryHybridizer object)\n"
     ]
    },
    {
     "cell_type": "code",
     "collapsed": false,
     "input": [
      "ecar2.delete_processes_foreground(id_begone)"
     ],
     "language": "python",
     "metadata": {},
     "outputs": [],
     "prompt_number": 9
    },
    {
     "cell_type": "markdown",
     "metadata": {},
     "source": [
      "## Adapt the Ellingsen battery inventory"
     ]
    },
    {
     "cell_type": "markdown",
     "metadata": {},
     "source": [
      "Read in the original background and the original battery foreground using the *extract_background_from_matdict()* and the *extract_foreground_from_matdict()* methods of the ArdaInventoryHybridizer object."
     ]
    },
    {
     "cell_type": "code",
     "collapsed": false,
     "input": [
      "battery.extract_background_from_matdict(eco_new)\n",
      "battery.extract_foreground_from_matdict(battery_dict)"
     ],
     "language": "python",
     "metadata": {},
     "outputs": [],
     "prompt_number": 10
    },
    {
     "cell_type": "markdown",
     "metadata": {},
     "source": [
      "Avoid id conflicts between the two inventories, change the Ids using the *increase_foreground_process_ids()* of the ArdaInventoryHybridizer object."
     ]
    },
    {
     "cell_type": "code",
     "collapsed": false,
     "input": [
      "battery.increase_foreground_process_ids(70000)"
     ],
     "language": "python",
     "metadata": {},
     "outputs": [],
     "prompt_number": 11
    },
    {
     "cell_type": "markdown",
     "metadata": {},
     "source": [
      "## Combine the two inventories"
     ]
    },
    {
     "cell_type": "markdown",
     "metadata": {},
     "source": [
      "Combine the ecar and the battery foregrounds using the *append_to_foreground()* method of the ArdaInventoryHybridizer object."
     ]
    },
    {
     "cell_type": "code",
     "collapsed": false,
     "input": [
      "ecar2.append_to_foreground(battery)"
     ],
     "language": "python",
     "metadata": {},
     "outputs": [],
     "prompt_number": 12
    },
    {
     "cell_type": "markdown",
     "metadata": {},
     "source": [
      "Make the link between the two foregrounds"
     ]
    },
    {
     "cell_type": "code",
     "collapsed": false,
     "input": [
      "# 30030: 'Battery_Li_NCM'\n",
      "# 40001: 'EV Li-NCM Euro'\n",
      "# 80001: The complete s+orm battery from Ellingsen et al.\n",
      "\n",
      "# Make sure that each Ev_Li-NCM requires 253 kg of Battery_Li_NCM\n",
      "ecar2.A_ff.ix[30030, 40001] = 253\n",
      "\n",
      "# Make sure that each kg of Battery_Li_NCM requires 1 kg of s+orm\n",
      "ecar2.A_ff.ix[80001,30030] = 1"
     ],
     "language": "python",
     "metadata": {},
     "outputs": [],
     "prompt_number": 13
    },
    {
     "cell_type": "markdown",
     "metadata": {},
     "source": [
      "Visually inspect the battery row, to see what ecar processes use this battery"
     ]
    },
    {
     "cell_type": "code",
     "collapsed": false,
     "input": [
      "mtv.inspect_row(ecar2.A_ff, 30030, labels=ecar2.PRO_f.iloc[:,0], keep_index=False)"
     ],
     "language": "python",
     "metadata": {},
     "outputs": [
      {
       "output_type": "stream",
       "stream": "stdout",
       "text": [
        "[['EV Li-NCM Euro' 253.0]\n",
        " ['EV Li-NCM NG' 214.0]\n",
        " ['EV Li-NCM C' 214.0]]\n"
       ]
      },
      {
       "metadata": {},
       "output_type": "pyout",
       "prompt_number": 14,
       "text": [
        "array([['EV Li-NCM Euro', 253.0],\n",
        "       ['EV Li-NCM NG', 214.0],\n",
        "       ['EV Li-NCM C', 214.0]], dtype=object)"
       ]
      }
     ],
     "prompt_number": 14
    },
    {
     "cell_type": "markdown",
     "metadata": {},
     "source": [
      "Visually inspect the column, to see which processes the battery uses"
     ]
    },
    {
     "cell_type": "code",
     "collapsed": false,
     "input": [
      "mtv.inspect_col(ecar2.A_ff, 30030, labels=ecar2.PRO_f.iloc[:,0], keep_index=False)"
     ],
     "language": "python",
     "metadata": {},
     "outputs": [
      {
       "output_type": "stream",
       "stream": "stdout",
       "text": [
        "[['s+orm' 1.0]]\n"
       ]
      },
      {
       "metadata": {},
       "output_type": "pyout",
       "prompt_number": 15,
       "text": [
        "array([['s+orm', 1.0]], dtype=object)"
       ]
      }
     ],
     "prompt_number": 15
    },
    {
     "cell_type": "markdown",
     "metadata": {},
     "source": [
      "Good, the connection seems to have been well made."
     ]
    },
    {
     "cell_type": "heading",
     "level": 2,
     "metadata": {},
     "source": [
      "Estimate mass of components, save mass metadata in labels"
     ]
    },
    {
     "cell_type": "markdown",
     "metadata": {},
     "source": [
      "Many processes in the foreground are not recorded relative to a standard unit (kg, MJ, etc.) but rather \"per unit\". Though this makes sense (one car, one bumper, etc.), it can make it more difficult to relate it to prices expressed in $/kg, notably in an effort to hybridize the inventory. \n",
      "\n",
      "Luckily, the inventory is structured such that the mass of each component can easily be estimated. All inputs that contribute to the mass of the product are recorded with indexes in the 10000-20000 range."
     ]
    },
    {
     "cell_type": "code",
     "collapsed": false,
     "input": [
      "# For visual inspection, get inputs that contribute to the mass of Body_and_Doors (process 20006):\n",
      "pd.DataFrame(mtv.inspect_vect(ecar2.A_ff[20006].values, ecar2.PRO_f, verbose=False))"
     ],
     "language": "python",
     "metadata": {},
     "outputs": [
      {
       "html": [
        "<div style=\"max-height:1000px;max-width:1500px;overflow:auto;\">\n",
        "<table border=\"1\" class=\"dataframe\">\n",
        "  <thead>\n",
        "    <tr style=\"text-align: right;\">\n",
        "      <th></th>\n",
        "      <th>0</th>\n",
        "      <th>1</th>\n",
        "      <th>2</th>\n",
        "      <th>3</th>\n",
        "      <th>4</th>\n",
        "      <th>5</th>\n",
        "      <th>6</th>\n",
        "      <th>7</th>\n",
        "      <th>8</th>\n",
        "      <th>9</th>\n",
        "    </tr>\n",
        "  </thead>\n",
        "  <tbody>\n",
        "    <tr>\n",
        "      <th>0</th>\n",
        "      <td>        Body_and_Doors: EAF steel/kg</td>\n",
        "      <td> 10002</td>\n",
        "      <td>        EAF steel</td>\n",
        "      <td> Body_and_Doors</td>\n",
        "      <td> [[]]</td>\n",
        "      <td>        0</td>\n",
        "      <td> [[]]</td>\n",
        "      <td> 0</td>\n",
        "      <td> kg</td>\n",
        "      <td>   4.21671</td>\n",
        "    </tr>\n",
        "    <tr>\n",
        "      <th>1</th>\n",
        "      <td>          Body_and_Doors: Plastic/kg</td>\n",
        "      <td> 10015</td>\n",
        "      <td>          Plastic</td>\n",
        "      <td> Body_and_Doors</td>\n",
        "      <td> [[]]</td>\n",
        "      <td> Polymers</td>\n",
        "      <td> [[]]</td>\n",
        "      <td> 0</td>\n",
        "      <td> kg</td>\n",
        "      <td>  3.424658</td>\n",
        "    </tr>\n",
        "    <tr>\n",
        "      <th>2</th>\n",
        "      <td> Body_and_Doors: Scrap, EAF steel/kg</td>\n",
        "      <td> 10018</td>\n",
        "      <td> Scrap, EAF steel</td>\n",
        "      <td> Body_and_Doors</td>\n",
        "      <td> [[]]</td>\n",
        "      <td>        0</td>\n",
        "      <td> [[]]</td>\n",
        "      <td> 0</td>\n",
        "      <td> kg</td>\n",
        "      <td> 0.8859578</td>\n",
        "    </tr>\n",
        "  </tbody>\n",
        "</table>\n",
        "</div>"
       ],
       "metadata": {},
       "output_type": "pyout",
       "prompt_number": 16,
       "text": [
        "                                     0      1                 2  \\\n",
        "0         Body_and_Doors: EAF steel/kg  10002         EAF steel   \n",
        "1           Body_and_Doors: Plastic/kg  10015           Plastic   \n",
        "2  Body_and_Doors: Scrap, EAF steel/kg  10018  Scrap, EAF steel   \n",
        "\n",
        "                3     4         5     6  7   8          9  \n",
        "0  Body_and_Doors  [[]]         0  [[]]  0  kg    4.21671  \n",
        "1  Body_and_Doors  [[]]  Polymers  [[]]  0  kg   3.424658  \n",
        "2  Body_and_Doors  [[]]         0  [[]]  0  kg  0.8859578  "
       ]
      }
     ],
     "prompt_number": 16
    },
    {
     "cell_type": "markdown",
     "metadata": {},
     "source": [
      "Compile list of component masses by summing their input materials"
     ]
    },
    {
     "cell_type": "code",
     "collapsed": false,
     "input": [
      "mass_lists = []\n",
      "for i in ecar2.A.index:\n",
      "    if (i >= 20000) and (i < 30000) :\n",
      "        materials = pd.DataFrame(mtv.inspect_vect(ecar2.A_ff[i].values, ecar2.PRO_f, verbose=False))\n",
      "        bo_mass = (materials.iloc[:,-2] == 'kg').values\n",
      "        mass = materials.iloc[bo_mass, -1].sum()\n",
      "        mass_lists.append([i, mass])\n",
      "masses = pd.DataFrame(mass_lists)\n",
      "masses = masses.set_index(0, True)\n",
      "masses.columns=['MASS']"
     ],
     "language": "python",
     "metadata": {},
     "outputs": [],
     "prompt_number": 17
    },
    {
     "cell_type": "markdown",
     "metadata": {},
     "source": [
      "Integrate these masses as meta-data in the labels"
     ]
    },
    {
     "cell_type": "code",
     "collapsed": false,
     "input": [
      "tmp = pd.concat([ecar2.PRO_f.iloc[:, 0:-1], masses, ecar2.PRO_f.iloc[:,-1]], axis=1)\n",
      "tmp = tmp.reindex_axis(ecar2.PRO_f.index, 0).fillna('')\n",
      "ecar2.PRO_f = tmp.copy()"
     ],
     "language": "python",
     "metadata": {},
     "outputs": [],
     "prompt_number": 18
    },
    {
     "cell_type": "markdown",
     "metadata": {},
     "source": [
      "Clean up!"
     ]
    },
    {
     "cell_type": "code",
     "collapsed": false,
     "input": [
      "# Remove any calculate masses from use phase or end of life. Not applicable.\n",
      "bo = (ecar2.PRO_f.FULLNAME.str.contains('Use_Phase') |\n",
      "      ecar2.PRO_f.FULLNAME.str.contains('EOL'))\n",
      "ecar2.PRO_f.ix[bo, 'MASS'] = 0.0\n",
      "\n",
      "# Fill all other masses with zeros\n",
      "for i, row in ecar2.PRO_f.iterrows():\n",
      "    try:\n",
      "        int(row.MASS)\n",
      "    except:\n",
      "        row.MASS = 0.0"
     ],
     "language": "python",
     "metadata": {},
     "outputs": [],
     "prompt_number": 19
    },
    {
     "cell_type": "markdown",
     "metadata": {},
     "source": [
      "## Export new combined foreground to matlab file\n",
      "Peform the export using the *to_matfile()* foreground and background export method of the ArdaInventoryHybridizer object"
     ]
    },
    {
     "cell_type": "code",
     "collapsed": false,
     "input": [
      "# save memory, clean up\n",
      "import gc\n",
      "del ecar_dict, eco_new, eco_orig, PRO_f, battery, battery_dict, masses, materials, remove, tmp\n",
      "gc.collect()"
     ],
     "language": "python",
     "metadata": {},
     "outputs": [
      {
       "metadata": {},
       "output_type": "pyout",
       "prompt_number": 20,
       "text": [
        "395"
       ]
      }
     ],
     "prompt_number": 20
    },
    {
     "cell_type": "code",
     "collapsed": false,
     "input": [
      "ecar2.to_matfile('/home/bill/documents/ecar/hybridized_study/ecar_combined_eco22Recipe108H.mat', foreground=True, background=False)"
     ],
     "language": "python",
     "metadata": {},
     "outputs": [],
     "prompt_number": 21
    },
    {
     "cell_type": "markdown",
     "metadata": {},
     "source": [
      "## Check validity of combination with a back-of-the-envelope calculation\n",
      "\n",
      "Calculate the expected lifecycle GWP based on published numbers, and then calculate this impact with the new combined inventory."
     ]
    },
    {
     "cell_type": "code",
     "collapsed": false,
     "input": [
      "# Expected approximate lifecycle GWP values for whole system, considering published values\n",
      "\n",
      "gwp_corrigendum =   27165.31             # for FU=150 000 km, i.e. 181 gCO2eq/km\n",
      "gwp_MajeauBettez_battery = 214 * 22      # 214 kg battery pack initially in ecar, at 22 kg of CO2 per kg battery\n",
      "gwp_Ellingsen_battery =  4580            # for battery pack of 253 kg, i.e., ca. 18 kg CO2 per kg battery\n",
      "\n",
      "print('gwp of car lifecycle without battery: ', gwp_corrigendum - gwp_MajeauBettez_battery)\n",
      "expected_gwp = gwp_corrigendum - gwp_MajeauBettez_battery + gwp_Ellingsen_battery\n",
      "print('expected lifecycle gwp of car with new battery: ', expected_gwp)\n",
      "print('')"
     ],
     "language": "python",
     "metadata": {},
     "outputs": [
      {
       "output_type": "stream",
       "stream": "stdout",
       "text": [
        "gwp of car lifecycle without battery:  22457.31\n",
        "expected lifecycle gwp of car with new battery:  27037.31\n",
        "\n"
       ]
      }
     ],
     "prompt_number": 22
    },
    {
     "cell_type": "markdown",
     "metadata": {},
     "source": [
      "Calculate lifecycle impact of combined system using *calc_lifecycle()* method of ArdaInventoryHybridizer object"
     ]
    },
    {
     "cell_type": "code",
     "collapsed": false,
     "input": [
      "d = ecar2.calc_lifecycle('impacts')\n",
      "d.ix[20,:].values"
     ],
     "language": "python",
     "metadata": {},
     "outputs": [
      {
       "metadata": {},
       "output_type": "pyout",
       "prompt_number": 27,
       "text": [
        "array([ 26518.74836374])"
       ]
      }
     ],
     "prompt_number": 27
    },
    {
     "cell_type": "markdown",
     "metadata": {},
     "source": [
      "Calculated value within 1% of approximated value. Can be explained by different rounding and by use of different characterisation factor matching in the background. Combination of the two inventories is considered successful."
     ]
    }
   ],
   "metadata": {}
  }
 ]
}